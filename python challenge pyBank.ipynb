{
 "cells": [
  {
   "cell_type": "code",
   "execution_count": 1,
   "id": "05e35803",
   "metadata": {},
   "outputs": [
    {
     "data": {
      "text/html": [
       "<div>\n",
       "<style scoped>\n",
       "    .dataframe tbody tr th:only-of-type {\n",
       "        vertical-align: middle;\n",
       "    }\n",
       "\n",
       "    .dataframe tbody tr th {\n",
       "        vertical-align: top;\n",
       "    }\n",
       "\n",
       "    .dataframe thead th {\n",
       "        text-align: right;\n",
       "    }\n",
       "</style>\n",
       "<table border=\"1\" class=\"dataframe\">\n",
       "  <thead>\n",
       "    <tr style=\"text-align: right;\">\n",
       "      <th></th>\n",
       "      <th>Date</th>\n",
       "      <th>Profit/Losses</th>\n",
       "    </tr>\n",
       "  </thead>\n",
       "  <tbody>\n",
       "    <tr>\n",
       "      <th>0</th>\n",
       "      <td>Jan-10</td>\n",
       "      <td>1088983</td>\n",
       "    </tr>\n",
       "    <tr>\n",
       "      <th>1</th>\n",
       "      <td>Feb-10</td>\n",
       "      <td>-354534</td>\n",
       "    </tr>\n",
       "    <tr>\n",
       "      <th>2</th>\n",
       "      <td>Mar-10</td>\n",
       "      <td>276622</td>\n",
       "    </tr>\n",
       "    <tr>\n",
       "      <th>3</th>\n",
       "      <td>Apr-10</td>\n",
       "      <td>-728133</td>\n",
       "    </tr>\n",
       "    <tr>\n",
       "      <th>4</th>\n",
       "      <td>May-10</td>\n",
       "      <td>852993</td>\n",
       "    </tr>\n",
       "  </tbody>\n",
       "</table>\n",
       "</div>"
      ],
      "text/plain": [
       "     Date  Profit/Losses\n",
       "0  Jan-10        1088983\n",
       "1  Feb-10        -354534\n",
       "2  Mar-10         276622\n",
       "3  Apr-10        -728133\n",
       "4  May-10         852993"
      ]
     },
     "execution_count": 1,
     "metadata": {},
     "output_type": "execute_result"
    }
   ],
   "source": [
    "import pandas as pd\n",
    "\n",
    "variable = pd.read_csv('budget_data.csv')\n",
    "variable.head()\n"
   ]
  },
  {
   "cell_type": "code",
   "execution_count": null,
   "id": "b00be2f9",
   "metadata": {},
   "outputs": [],
   "source": []
  },
  {
   "cell_type": "code",
   "execution_count": 52,
   "id": "18439449",
   "metadata": {},
   "outputs": [
    {
     "name": "stdout",
     "output_type": "stream",
     "text": [
      "Number of Months: 86\n"
     ]
    }
   ],
   "source": [
    "rows = len(variable.axes[0])\n",
    "\n",
    "print(\"Number of Months: \" + str(rows))\n"
   ]
  },
  {
   "cell_type": "code",
   "execution_count": 53,
   "id": "d6b8b108",
   "metadata": {},
   "outputs": [],
   "source": [
    "i = str(variable[\"Profit/Losses\"].sum())\n"
   ]
  },
  {
   "cell_type": "code",
   "execution_count": 58,
   "id": "2b87348f",
   "metadata": {},
   "outputs": [
    {
     "name": "stdout",
     "output_type": "stream",
     "text": [
      "Total: $22564198\n"
     ]
    }
   ],
   "source": [
    "\n",
    "print(\"Total:\",'$' + i) "
   ]
  },
  {
   "cell_type": "code",
   "execution_count": 50,
   "id": "a6bc35f9",
   "metadata": {},
   "outputs": [],
   "source": [
    " e =str(variable[\"Profit/Losses\"].diff().mean())  \n"
   ]
  },
  {
   "cell_type": "code",
   "execution_count": 59,
   "id": "7f4b650f",
   "metadata": {},
   "outputs": [
    {
     "name": "stdout",
     "output_type": "stream",
     "text": [
      "Average change: $-8311.105882352942\n"
     ]
    }
   ],
   "source": [
    "print(\"Average change:\",'$' + e) "
   ]
  },
  {
   "cell_type": "code",
   "execution_count": 46,
   "id": "1e0b6cc2",
   "metadata": {},
   "outputs": [],
   "source": [
    "b= str(variable[\"Profit/Losses\"].diff().max())"
   ]
  },
  {
   "cell_type": "code",
   "execution_count": 60,
   "id": "488b4849",
   "metadata": {},
   "outputs": [
    {
     "name": "stdout",
     "output_type": "stream",
     "text": [
      "Greatest increase in profits: $1862002.0\n"
     ]
    }
   ],
   "source": [
    "print(\"Greatest increase in profits:\",'$' + b) "
   ]
  },
  {
   "cell_type": "code",
   "execution_count": 43,
   "id": "ca47a41e",
   "metadata": {},
   "outputs": [],
   "source": [
    "a = str(variable[\"Profit/Losses\"].diff().min()"
   ]
  },
  {
   "cell_type": "code",
   "execution_count": 61,
   "id": "e0e923bd",
   "metadata": {},
   "outputs": [
    {
     "name": "stdout",
     "output_type": "stream",
     "text": [
      "Greatest decrease in profits: $-1825558.0\n"
     ]
    }
   ],
   "source": [
    "print(\"Greatest decrease in profits:\",'$' + a) "
   ]
  },
  {
   "cell_type": "code",
   "execution_count": null,
   "id": "84428b7b",
   "metadata": {},
   "outputs": [],
   "source": [
    "\n"
   ]
  },
  {
   "cell_type": "code",
   "execution_count": 29,
   "id": "5a28a2a1",
   "metadata": {},
   "outputs": [],
   "source": []
  },
  {
   "cell_type": "code",
   "execution_count": null,
   "id": "79ca0ded",
   "metadata": {},
   "outputs": [],
   "source": []
  }
 ],
 "metadata": {
  "kernelspec": {
   "display_name": "Python 3 (ipykernel)",
   "language": "python",
   "name": "python3"
  },
  "language_info": {
   "codemirror_mode": {
    "name": "ipython",
    "version": 3
   },
   "file_extension": ".py",
   "mimetype": "text/x-python",
   "name": "python",
   "nbconvert_exporter": "python",
   "pygments_lexer": "ipython3",
   "version": "3.9.13"
  }
 },
 "nbformat": 4,
 "nbformat_minor": 5
}
